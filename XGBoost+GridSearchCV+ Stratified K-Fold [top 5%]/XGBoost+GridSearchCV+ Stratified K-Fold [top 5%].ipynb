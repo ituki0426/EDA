{
 "cells": [
  {
   "cell_type": "markdown",
   "id": "ad1686de",
   "metadata": {},
   "source": [
    "## XGBoost+GridSearchCV+ Stratified K-Fold [top 5%]"
   ]
  },
  {
   "cell_type": "markdown",
   "id": "d1f6637f",
   "metadata": {},
   "source": [
    "\n",
    "## Introduction"
   ]
  },
  {
   "cell_type": "markdown",
   "id": "ff9ca767",
   "metadata": {},
   "source": [
    "このノートブックは Python で書かれています。特徴量エンジニアリングは Sina の作品であり、以下のコードは「Titanic best working classifier」から着想を得たものです。"
   ]
  }
 ],
 "metadata": {
  "language_info": {
   "name": "python"
  }
 },
 "nbformat": 4,
 "nbformat_minor": 5
}
