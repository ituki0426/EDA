{
 "cells": [
  {
   "cell_type": "markdown",
   "id": "3d6130c0",
   "metadata": {},
   "source": [
    "## Stratified KFold+XGBoost+EDA Tutorial(0.281)"
   ]
  },
  {
   "cell_type": "markdown",
   "id": "73b6e8ea",
   "metadata": {},
   "source": [
    "## アウトライン\n",
    "\n",
    "- **1. はじめに**\n",
    "\n",
    "- **2. データの準備**\n",
    "  - 2.1 データの読み込み\n",
    "  - 2.2 欠損値の確認\n",
    "  - 2.3 特徴量と目的変数への分割\n",
    "  - 2.4 探索的データ分析（EDA）\n",
    "\n",
    "- **3. 学習・予測パイプライン**\n",
    "  - 3.1 Gini指標の定義\n",
    "  - 3.2 不要な特徴量の削除\n",
    "  - 3.3 Stratified KFold による分割\n",
    "  - 3.4 XGBoost による学習\n",
    "\n",
    "- **4. 予測と提出**\n",
    "  - 4.1 予測と提出ファイルの作成\n"
   ]
  },
  {
   "cell_type": "markdown",
   "id": "637e48a8",
   "metadata": {},
   "source": [
    "## 1.Introdcution"
   ]
  },
  {
   "cell_type": "markdown",
   "id": "01f56649",
   "metadata": {},
   "source": [
    "これは、Porto Seguro社が提供する「Safe Driver Prediction」データセットを用いた機械学習モデル構築の完全なチュートリアルです。\n",
    "出力変数の不均衡を考慮して、Stratified KFold（層化K分割）が使用されています。\n",
    "XGBoostは、形式化されたデータにおける分類問題で「当たりくじのような」手法として広く使われているため、ここでも使用します。\n",
    "その成功例は こちらのリンク（XGBoost winning solutions） で確認できます。\n",
    "\n",
    "まずは、データの準備（ドライバー情報と、自動車保険に加入したかどうか）を行い、その後で予測に取り組みます。"
   ]
  }
 ],
 "metadata": {
  "language_info": {
   "name": "python"
  }
 },
 "nbformat": 4,
 "nbformat_minor": 5
}
