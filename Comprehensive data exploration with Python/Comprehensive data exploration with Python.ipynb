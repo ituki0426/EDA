{
 "cells": [
  {
   "cell_type": "markdown",
   "id": "956d8848",
   "metadata": {},
   "source": [
    "## Comprehensive data exploration with Python"
   ]
  },
  {
   "cell_type": "markdown",
   "id": "192a7326",
   "metadata": {},
   "source": [
    "『人生で最も難しいことは、自分自身を知ることだ』\n",
    "\n",
    "この引用はミレトスのタレスに由来します。タレスはギリシャ／フェニキアの哲学者・数学者・天文学者であり、西洋文明において科学的思考を初めて実践した人物として知られています（出典：Wikipedia – Thales）。\n",
    "\n",
    "データサイエンスにおいて「データを知ること」が人生で最も難しいことだとは言いませんが、時間がかかるのは事実です。そのため、この初期ステップを見落とし、早々に次のステップへ進んでしまうことがよくあります。\n",
    "\n",
    "ですので、私は「水に飛び込む前に泳ぎ方を学ぶ」ことを試みました。Hair ら（2013年）の『データを調べる』という章を参考にして、包括的ではあるが完全ではない分析を試みました。これは厳密な研究報告というわけではありませんが、コミュニティにとって役立つことを願って、私がどのようにデータ分析の原則をこの問題に適用したかを共有することにしました。\n",
    "\n",
    "章の名前は少々風変わりかもしれませんが、このカーネル（ノートブック）で行っていることは以下のようなものです：\n",
    "\n",
    "- 問題を理解する。\n",
    "　各変数を確認し、それらの意味やこの問題における重要性について哲学的な観点から分析します。\n",
    "\n",
    "- 単変量分析。\n",
    "　従属変数（'SalePrice'）のみに注目して、もう少し深く理解しようとします。\n",
    "\n",
    "- 多変量分析。\n",
    "　従属変数と独立変数の関係性を探り、それらがどのように関係しているかを理解しようとします。\n",
    "\n",
    "- 基本的なクレンジング。\n",
    "　データセットの欠損値、外れ値、カテゴリ変数を処理してクリーンアップします。\n",
    "\n",
    "- 前提条件の検証。\n",
    "　私たちのデータが、多くの多変量解析技法で要求される前提条件を満たしているかを確認します。"
   ]
  },
  {
   "cell_type": "code",
   "execution_count": 1,
   "id": "b7e6c116",
   "metadata": {},
   "outputs": [],
   "source": [
    "#invite people for the Kaggle party\n",
    "import pandas as pd\n",
    "import matplotlib.pyplot as plt\n",
    "import seaborn as sns\n",
    "import numpy as np\n",
    "from scipy.stats import norm\n",
    "from sklearn.preprocessing import StandardScaler\n",
    "from scipy import stats\n",
    "import warnings\n",
    "warnings.filterwarnings('ignore')\n",
    "%matplotlib inline"
   ]
  },
  {
   "cell_type": "code",
   "execution_count": 2,
   "id": "7dff3a04",
   "metadata": {},
   "outputs": [
    {
     "data": {
      "text/plain": [
       "Index(['Id', 'MSSubClass', 'MSZoning', 'LotFrontage', 'LotArea', 'Street',\n",
       "       'Alley', 'LotShape', 'LandContour', 'Utilities', 'LotConfig',\n",
       "       'LandSlope', 'Neighborhood', 'Condition1', 'Condition2', 'BldgType',\n",
       "       'HouseStyle', 'OverallQual', 'OverallCond', 'YearBuilt', 'YearRemodAdd',\n",
       "       'RoofStyle', 'RoofMatl', 'Exterior1st', 'Exterior2nd', 'MasVnrType',\n",
       "       'MasVnrArea', 'ExterQual', 'ExterCond', 'Foundation', 'BsmtQual',\n",
       "       'BsmtCond', 'BsmtExposure', 'BsmtFinType1', 'BsmtFinSF1',\n",
       "       'BsmtFinType2', 'BsmtFinSF2', 'BsmtUnfSF', 'TotalBsmtSF', 'Heating',\n",
       "       'HeatingQC', 'CentralAir', 'Electrical', '1stFlrSF', '2ndFlrSF',\n",
       "       'LowQualFinSF', 'GrLivArea', 'BsmtFullBath', 'BsmtHalfBath', 'FullBath',\n",
       "       'HalfBath', 'BedroomAbvGr', 'KitchenAbvGr', 'KitchenQual',\n",
       "       'TotRmsAbvGrd', 'Functional', 'Fireplaces', 'FireplaceQu', 'GarageType',\n",
       "       'GarageYrBlt', 'GarageFinish', 'GarageCars', 'GarageArea', 'GarageQual',\n",
       "       'GarageCond', 'PavedDrive', 'WoodDeckSF', 'OpenPorchSF',\n",
       "       'EnclosedPorch', '3SsnPorch', 'ScreenPorch', 'PoolArea', 'PoolQC',\n",
       "       'Fence', 'MiscFeature', 'MiscVal', 'MoSold', 'YrSold', 'SaleType',\n",
       "       'SaleCondition', 'SalePrice'],\n",
       "      dtype='object')"
      ]
     },
     "execution_count": 2,
     "metadata": {},
     "output_type": "execute_result"
    }
   ],
   "source": [
    "df_train = pd.read_csv('./data/train.csv')\n",
    "df_train.columns"
   ]
  },
  {
   "cell_type": "markdown",
   "id": "3d076e82",
   "metadata": {},
   "source": [
    "### 1. それで……何がわかるのでしょうか？\n"
   ]
  },
  {
   "cell_type": "markdown",
   "id": "e8d983b6",
   "metadata": {},
   "source": [
    "データを理解するために、各変数を見て、その意味やこの問題との関連性を考えてみましょう。これは時間のかかる作業ですが、データセットの「味わい」をつかむことができます。\n",
    "\n",
    "分析に一定の規律をもたせるために、以下の列をもつExcelスプレッドシートを作成することができます：\n",
    "\n",
    "Variable（変数） – 変数の名前。\n",
    "\n",
    "Type（型） – 変数の型の識別。ここには2つの値が入ります：「数値型（numerical）」または「カテゴリ型（categorical）」。\n",
    "「数値型」とは、値が数値である変数のことで、「カテゴリ型」とは、値がカテゴリ（分類）である変数のことです。\n",
    "\n",
    "Segment（セグメント） – 変数の分類（セグメント）の識別。次の3つのセグメントに分類できます：\n",
    "建物（building）・空間（space）・場所（location）。\n",
    "\n",
    "「建物」とは、建物の物理的特性に関連する変数（例：OverallQual）。\n",
    "\n",
    "「空間」とは、住宅の空間的特性を示す変数（例：TotalBsmtSF）。\n",
    "\n",
    "「場所」とは、住宅がどこにあるかに関する情報を与える変数（例：Neighborhood）。\n",
    "\n",
    "Expectation（予想） – その変数が「SalePrice（販売価格）」に与える影響についての予想。\n",
    "「高（High）」「中（Medium）」「低（Low）」のカテゴリ尺度を使うことができます。\n",
    "\n",
    "Conclusion（結論） – データをざっと見た後で、その変数の重要性についての結論。\n",
    "「Expectation」と同様に、「高・中・低」のカテゴリ尺度で評価できます。\n",
    "\n",
    "Comments（コメント） – その他、思いついた一般的なコメント。\n"
   ]
  }
 ],
 "metadata": {
  "kernelspec": {
   "display_name": ".venv",
   "language": "python",
   "name": "python3"
  },
  "language_info": {
   "codemirror_mode": {
    "name": "ipython",
    "version": 3
   },
   "file_extension": ".py",
   "mimetype": "text/x-python",
   "name": "python",
   "nbconvert_exporter": "python",
   "pygments_lexer": "ipython3",
   "version": "3.12.3"
  }
 },
 "nbformat": 4,
 "nbformat_minor": 5
}
